{
  "nbformat": 4,
  "nbformat_minor": 0,
  "metadata": {
    "colab": {
      "provenance": []
    },
    "kernelspec": {
      "name": "python3",
      "display_name": "Python 3"
    },
    "language_info": {
      "name": "python"
    }
  },
  "cells": [
    {
      "cell_type": "code",
      "execution_count": null,
      "metadata": {
        "colab": {
          "base_uri": "https://localhost:8080/"
        },
        "id": "AU1Gk0Q7RH4z",
        "outputId": "fea67def-20d9-492f-ebcd-ed55a959ec3f"
      },
      "outputs": [
        {
          "output_type": "stream",
          "name": "stdout",
          "text": [
            "Mounted at /gdrive\n"
          ]
        }
      ],
      "source": [
        "from google.colab import drive\n",
        "drive.mount('/gdrive')"
      ]
    },
    {
      "cell_type": "code",
      "source": [
        "%cd /gdrive/MyDrive/caltech-101/"
      ],
      "metadata": {
        "colab": {
          "base_uri": "https://localhost:8080/"
        },
        "id": "bWWC4y7wRfSW",
        "outputId": "a986ec75-dfb8-40f9-e130-f777fa9e128a"
      },
      "execution_count": null,
      "outputs": [
        {
          "output_type": "stream",
          "name": "stdout",
          "text": [
            "/gdrive/MyDrive/caltech-101\n"
          ]
        }
      ]
    },
    {
      "cell_type": "code",
      "source": [
        "import cv2\n",
        "import numpy as np\n",
        "import os\n",
        "from sklearn.cluster import KMeans\n",
        "from sklearn.svm import SVC\n",
        "from sklearn.preprocessing import StandardScaler\n",
        "from sklearn.model_selection import train_test_split"
      ],
      "metadata": {
        "id": "XuRa2GrgWCgv"
      },
      "execution_count": null,
      "outputs": []
    },
    {
      "cell_type": "code",
      "source": [
        "image_paths = []\n",
        "for class_name in os.listdir(\"./data\"):\n",
        "    class_path = os.path.join(\"./data\", class_name)\n",
        "    for image_name in os.listdir(class_path):\n",
        "        image_paths.append((os.path.join(class_path, image_name), class_name))"
      ],
      "metadata": {
        "id": "rLa_0psURvm3"
      },
      "execution_count": null,
      "outputs": []
    },
    {
      "cell_type": "code",
      "source": [
        "len(image_paths)"
      ],
      "metadata": {
        "colab": {
          "base_uri": "https://localhost:8080/"
        },
        "id": "b9NI65CzWeZh",
        "outputId": "d3e57f85-fba0-4c12-c969-0210c6caa946"
      },
      "execution_count": null,
      "outputs": [
        {
          "output_type": "execute_result",
          "data": {
            "text/plain": [
              "453"
            ]
          },
          "metadata": {},
          "execution_count": 7
        }
      ]
    },
    {
      "cell_type": "code",
      "source": [
        "# Split data into train and test sets\n",
        "train_paths, test_paths = train_test_split(image_paths, test_size=0.05, random_state=42)"
      ],
      "metadata": {
        "id": "OTr0sgYgWfkO"
      },
      "execution_count": null,
      "outputs": []
    },
    {
      "cell_type": "code",
      "source": [
        "print(len(train_paths))\n",
        "print(len(test_paths))"
      ],
      "metadata": {
        "colab": {
          "base_uri": "https://localhost:8080/"
        },
        "id": "x7K0iIihY2P4",
        "outputId": "fda85d36-b6be-451e-de5d-3b76817d04d1"
      },
      "execution_count": null,
      "outputs": [
        {
          "output_type": "stream",
          "name": "stdout",
          "text": [
            "430\n",
            "23\n"
          ]
        }
      ]
    },
    {
      "cell_type": "code",
      "source": [
        "def get_descriptors(sift, img):\n",
        "    kp, des = sift.detectAndCompute(img, None)\n",
        "    return des\n",
        "\n",
        "def read_image(img_path):\n",
        "    img = cv2.imread(img_path, 0)\n",
        "    return cv2.resize(img, (150, 150))\n",
        "\n",
        "def extract_features(image_paths, sift):\n",
        "    descriptor_list = []\n",
        "    labels = []\n",
        "    for img_path, label in image_paths:\n",
        "        img = read_image(img_path)\n",
        "        des = get_descriptors(sift, img)\n",
        "        if des is not None:\n",
        "            descriptor_list.append(des)\n",
        "            labels.append(label)\n",
        "    return descriptor_list, labels"
      ],
      "metadata": {
        "id": "PNdw6eo5Y7MM"
      },
      "execution_count": null,
      "outputs": []
    },
    {
      "cell_type": "code",
      "source": [
        "# Initialize SIFT\n",
        "sift = cv2.SIFT_create()\n",
        "\n",
        "# Extract features from train set\n",
        "train_descriptors, train_labels = extract_features(train_paths, sift)"
      ],
      "metadata": {
        "id": "-XW-WADVZId5"
      },
      "execution_count": null,
      "outputs": []
    },
    {
      "cell_type": "code",
      "source": [
        "def stack_descriptors(descriptor_list):\n",
        "    descriptors = np.array(descriptor_list[0])\n",
        "    for descriptor in descriptor_list[1:]:\n",
        "        descriptors = np.vstack((descriptors, descriptor))\n",
        "    return descriptors\n",
        "train_descriptors_stacked = stack_descriptors(train_descriptors)"
      ],
      "metadata": {
        "id": "t6H6AjPLZPX8"
      },
      "execution_count": null,
      "outputs": []
    },
    {
      "cell_type": "code",
      "source": [
        "num_clusters = 100\n",
        "kmeans = KMeans(n_clusters=num_clusters).fit(train_descriptors_stacked)"
      ],
      "metadata": {
        "colab": {
          "base_uri": "https://localhost:8080/"
        },
        "id": "gBgxneL3ZZIY",
        "outputId": "0ef4e6cf-4647-4060-dace-e98a6ad1dadc"
      },
      "execution_count": null,
      "outputs": [
        {
          "output_type": "stream",
          "name": "stderr",
          "text": [
            "/usr/local/lib/python3.10/dist-packages/sklearn/cluster/_kmeans.py:870: FutureWarning: The default value of `n_init` will change from 10 to 'auto' in 1.4. Set the value of `n_init` explicitly to suppress the warning\n",
            "  warnings.warn(\n"
          ]
        }
      ]
    },
    {
      "cell_type": "code",
      "source": [
        "def extract_image_features(descriptor_list, kmeans, num_clusters):\n",
        "    image_features = np.zeros((len(descriptor_list), num_clusters))\n",
        "    for i, descriptors in enumerate(descriptor_list):\n",
        "        for descriptor in descriptors:\n",
        "            idx = kmeans.predict(descriptor.reshape(1, -1))\n",
        "            image_features[i][idx] += 1\n",
        "    return image_features\n",
        "# Extract image features\n",
        "train_features = extract_image_features(train_descriptors, kmeans, num_clusters)\n",
        "\n",
        "# Normalize features\n",
        "\n",
        "train_features_normalized = scaler.fit_transform(train_features)"
      ],
      "metadata": {
        "id": "tJNbiMb7ZseW"
      },
      "execution_count": null,
      "outputs": []
    },
    {
      "cell_type": "code",
      "source": [
        "# Train SVM\n",
        "def train_svm(X_train, y_train, kernel='linear'):\n",
        "    svm = SVC(kernel=kernel)\n",
        "    svm.fit(X_train, y_train)\n",
        "    return svm\n",
        "svm = train_svm(train_features_normalized, train_labels)"
      ],
      "metadata": {
        "id": "_BzOJFh3Z7To"
      },
      "execution_count": null,
      "outputs": []
    },
    {
      "cell_type": "code",
      "source": [
        "# Extract features from test set\n",
        "test_descriptors, test_labels = extract_features(test_paths, sift)\n",
        "test_features = extract_image_features(test_descriptors, kmeans, num_clusters)\n",
        "test_features_normalized = scaler.transform(test_features)\n",
        "\n",
        "# Test SVM\n",
        "predictions = svm.predict(test_features_normalized)\n",
        "\n",
        "# Evaluate\n",
        "accuracy = np.mean(predictions == test_labels)\n",
        "print(\"Accuracy:\", accuracy)"
      ],
      "metadata": {
        "colab": {
          "base_uri": "https://localhost:8080/"
        },
        "id": "5FsIc-1HZ_be",
        "outputId": "fd8631a3-a449-48ad-e28d-e0bdb2efef73"
      },
      "execution_count": null,
      "outputs": [
        {
          "output_type": "stream",
          "name": "stdout",
          "text": [
            "Accuracy: 0.391304347826087\n"
          ]
        }
      ]
    },
    {
      "cell_type": "code",
      "source": [
        "num_clusters = 400\n",
        "kmeans = KMeans(n_clusters=num_clusters).fit(train_descriptors_stacked)\n",
        "\n",
        "# Extract image features\n",
        "train_features = extract_image_features(train_descriptors, kmeans, num_clusters)\n",
        "\n",
        "# Normalize features\n",
        "scaler = StandardScaler()\n",
        "train_features_normalized = scaler.fit_transform(train_features)\n",
        "\n",
        "svm = train_svm(train_features_normalized, train_labels)\n",
        "\n",
        "# Extract features from test set\n",
        "test_descriptors, test_labels = extract_features(test_paths, sift)\n",
        "test_features = extract_image_features(test_descriptors, kmeans, num_clusters)\n",
        "test_features_normalized = scaler.transform(test_features)\n",
        "\n",
        "# Test SVM\n",
        "predictions = svm.predict(test_features_normalized)\n",
        "\n",
        "# Evaluate\n",
        "accuracy = np.mean(predictions == test_labels)\n",
        "print(\"Accuracy:\", accuracy)"
      ],
      "metadata": {
        "colab": {
          "base_uri": "https://localhost:8080/"
        },
        "id": "VlDIwKJEam-B",
        "outputId": "fe2464ed-ab07-4bd1-a56d-b305e685dc9f"
      },
      "execution_count": null,
      "outputs": [
        {
          "output_type": "stream",
          "name": "stderr",
          "text": [
            "/usr/local/lib/python3.10/dist-packages/sklearn/cluster/_kmeans.py:870: FutureWarning: The default value of `n_init` will change from 10 to 'auto' in 1.4. Set the value of `n_init` explicitly to suppress the warning\n",
            "  warnings.warn(\n"
          ]
        },
        {
          "output_type": "stream",
          "name": "stdout",
          "text": [
            "Accuracy: 0.5652173913043478\n"
          ]
        }
      ]
    },
    {
      "cell_type": "code",
      "source": [],
      "metadata": {
        "id": "Oa9EQktUdT1q"
      },
      "execution_count": null,
      "outputs": []
    }
  ]
}