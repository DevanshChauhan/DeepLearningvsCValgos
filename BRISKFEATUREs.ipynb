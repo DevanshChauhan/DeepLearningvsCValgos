{
  "cells": [
    {
      "cell_type": "code",
      "execution_count": null,
      "metadata": {
        "colab": {
          "base_uri": "https://localhost:8080/"
        },
        "id": "6oheogTqNh0h",
        "outputId": "1e148698-1b79-4d9d-819b-b50602a4f252"
      },
      "outputs": [
        {
          "name": "stdout",
          "output_type": "stream",
          "text": [
            "Drive already mounted at /gdrive; to attempt to forcibly remount, call drive.mount(\"/gdrive\", force_remount=True).\n"
          ]
        }
      ],
      "source": [
        "from google.colab import drive\n",
        "drive.mount('/gdrive')"
      ]
    },
    {
      "cell_type": "code",
      "execution_count": null,
      "metadata": {
        "colab": {
          "base_uri": "https://localhost:8080/"
        },
        "id": "ojS6r6KpN1CE",
        "outputId": "186926cb-b043-456f-b153-0fae4bc73d3c"
      },
      "outputs": [
        {
          "name": "stdout",
          "output_type": "stream",
          "text": [
            "/gdrive/MyDrive/Recog3\n"
          ]
        }
      ],
      "source": [
        "%cd /gdrive/MyDrive/Recog3/"
      ]
    },
    {
      "cell_type": "code",
      "execution_count": null,
      "metadata": {
        "id": "_pkdr8e3Nt4S"
      },
      "outputs": [],
      "source": [
        "import cv2\n",
        "import numpy as np\n",
        "import os\n",
        "from sklearn.cluster import KMeans\n",
        "from sklearn.svm import SVC\n",
        "from sklearn.preprocessing import StandardScaler\n",
        "from sklearn.model_selection import train_test_split"
      ]
    },
    {
      "cell_type": "code",
      "execution_count": null,
      "metadata": {
        "id": "OJhTmm3kN4I9"
      },
      "outputs": [],
      "source": [
        "image_paths = []\n",
        "for class_name in os.listdir(\"/gdrive/MyDrive/Recog3/Data\"):\n",
        "    class_path = os.path.join(\"/gdrive/MyDrive/Recog3/Data\", class_name)\n",
        "    for image_name in os.listdir(class_path):\n",
        "        image_paths.append((os.path.join(class_path, image_name), class_name))"
      ]
    },
    {
      "cell_type": "code",
      "execution_count": null,
      "metadata": {
        "id": "XwA8V5zfN6GM"
      },
      "outputs": [],
      "source": [
        "train_paths, test_paths = train_test_split(image_paths, test_size=0.05, random_state=42)"
      ]
    },
    {
      "cell_type": "code",
      "execution_count": null,
      "metadata": {
        "colab": {
          "base_uri": "https://localhost:8080/"
        },
        "id": "AQK8LYpEOQgu",
        "outputId": "c24162d0-ea59-4e91-93cc-5c08d488d15b"
      },
      "outputs": [
        {
          "name": "stdout",
          "output_type": "stream",
          "text": [
            "463\n",
            "25\n"
          ]
        }
      ],
      "source": [
        "print(len(train_paths))\n",
        "print(len(test_paths))"
      ]
    },
    {
      "cell_type": "code",
      "execution_count": null,
      "metadata": {
        "id": "6EH7OiLDOSVx"
      },
      "outputs": [],
      "source": [
        "def get_descriptors(sift, img):\n",
        "    kp, des = sift.detectAndCompute(img, None)\n",
        "    return des\n",
        "\n",
        "def read_image(img_path):\n",
        "    img = cv2.imread(img_path, 0)\n",
        "    return cv2.resize(img, (150, 150))\n",
        "\n",
        "def extract_features(image_paths, sift):\n",
        "    descriptor_list = []\n",
        "    labels = []\n",
        "    for img_path, label in image_paths:\n",
        "        img = read_image(img_path)\n",
        "        des = get_descriptors(sift, img)\n",
        "        if des is not None:\n",
        "            descriptor_list.append(des)\n",
        "            labels.append(label)\n",
        "    return descriptor_list, labels"
      ]
    },
    {
      "cell_type": "code",
      "execution_count": null,
      "metadata": {
        "id": "NzCQsejxPeST"
      },
      "outputs": [],
      "source": [
        "extractor = cv2.SIFT_create(nfeatures=400, nOctaveLayers=10, contrastThreshold=0.02, edgeThreshold=20.0, sigma=0.8)\n",
        "\n",
        "# Extract features from train set\n",
        "train_descriptors, train_labels = extract_features(train_paths, extractor)"
      ]
    },
    {
      "cell_type": "code",
      "execution_count": null,
      "metadata": {
        "id": "-gY3UQnSPt5x"
      },
      "outputs": [],
      "source": [
        "def stack_descriptors(descriptor_list):\n",
        "    descriptors = np.array(descriptor_list[0])\n",
        "    for descriptor in descriptor_list[1:]:\n",
        "        descriptors = np.vstack((descriptors, descriptor))\n",
        "    return descriptors\n",
        "train_descriptors_stacked = stack_descriptors(train_descriptors)"
      ]
    },
    {
      "cell_type": "code",
      "execution_count": null,
      "metadata": {
        "colab": {
          "base_uri": "https://localhost:8080/"
        },
        "id": "-YmUx5TwQXHK",
        "outputId": "dd616906-7483-415b-dc69-5680f6ea8672"
      },
      "outputs": [
        {
          "name": "stderr",
          "output_type": "stream",
          "text": [
            "/usr/local/lib/python3.10/dist-packages/sklearn/cluster/_kmeans.py:870: FutureWarning: The default value of `n_init` will change from 10 to 'auto' in 1.4. Set the value of `n_init` explicitly to suppress the warning\n",
            "  warnings.warn(\n"
          ]
        }
      ],
      "source": [
        "num_clusters = 100\n",
        "kmeans = KMeans(n_clusters=num_clusters).fit(train_descriptors_stacked)"
      ]
    },
    {
      "cell_type": "code",
      "execution_count": null,
      "metadata": {
        "id": "m9a6SQD8QXcN"
      },
      "outputs": [],
      "source": [
        "def extract_image_features(descriptor_list, kmeans, num_clusters):\n",
        "    image_features = np.zeros((len(descriptor_list), num_clusters))\n",
        "    for i, descriptors in enumerate(descriptor_list):\n",
        "        for descriptor in descriptors:\n",
        "            idx = kmeans.predict(descriptor.reshape(1, -1))\n",
        "            image_features[i][idx] += 1\n",
        "    return image_features\n",
        "# Extract image features\n",
        "train_features = extract_image_features(train_descriptors, kmeans, num_clusters)\n",
        "\n",
        "# Normalize features\n",
        "scaler = StandardScaler()\n",
        "train_features_normalized = scaler.fit_transform(train_features)"
      ]
    },
    {
      "cell_type": "code",
      "execution_count": null,
      "metadata": {
        "id": "PDm557BDQZPl"
      },
      "outputs": [],
      "source": [
        "def train_svm(X_train, y_train, kernel='linear'):\n",
        "    svm = SVC(kernel=kernel)\n",
        "    svm.fit(X_train, y_train)\n",
        "    return svm\n",
        "svm = train_svm(train_features_normalized, train_labels)"
      ]
    },
    {
      "cell_type": "code",
      "execution_count": null,
      "metadata": {
        "colab": {
          "base_uri": "https://localhost:8080/"
        },
        "id": "EfebEb7FQbie",
        "outputId": "60b2d100-07af-4979-9c5b-144d4ef9c14d"
      },
      "outputs": [
        {
          "name": "stdout",
          "output_type": "stream",
          "text": [
            "Accuracy: 0.52\n"
          ]
        }
      ],
      "source": [
        "# Extract features from test set\n",
        "test_descriptors, test_labels = extract_features(test_paths, extractor)\n",
        "test_features = extract_image_features(test_descriptors, kmeans, num_clusters)\n",
        "test_features_normalized = scaler.transform(test_features)\n",
        "\n",
        "# Test SVM\n",
        "predictions = svm.predict(test_features_normalized)\n",
        "\n",
        "# Evaluate\n",
        "accuracy = np.mean(predictions == test_labels)\n",
        "print(\"Accuracy:\", accuracy)"
      ]
    },
    {
      "cell_type": "code",
      "execution_count": null,
      "metadata": {
        "colab": {
          "background_save": true,
          "base_uri": "https://localhost:8080/"
        },
        "id": "3HFGGH0_RmZ6",
        "outputId": "b72ed70f-2294-4b33-d1fb-6932ba06d10f"
      },
      "outputs": [
        {
          "name": "stderr",
          "output_type": "stream",
          "text": [
            "/usr/local/lib/python3.10/dist-packages/sklearn/cluster/_kmeans.py:870: FutureWarning: The default value of `n_init` will change from 10 to 'auto' in 1.4. Set the value of `n_init` explicitly to suppress the warning\n",
            "  warnings.warn(\n"
          ]
        },
        {
          "name": "stdout",
          "output_type": "stream",
          "text": [
            "Accuracy: 0.64\n"
          ]
        }
      ],
      "source": [
        "num_clusters = 400\n",
        "kmeans = KMeans(n_clusters=num_clusters).fit(train_descriptors_stacked)\n",
        "\n",
        "# Extract image features\n",
        "train_features = extract_image_features(train_descriptors, kmeans, num_clusters)\n",
        "\n",
        "# Normalize features\n",
        "scaler = StandardScaler()\n",
        "train_features_normalized = scaler.fit_transform(train_features)\n",
        "\n",
        "svm = train_svm(train_features_normalized, train_labels)\n",
        "\n",
        "# Extract features from test set\n",
        "test_descriptors, test_labels = extract_features(test_paths, extractor)\n",
        "test_features = extract_image_features(test_descriptors, kmeans, num_clusters)\n",
        "test_features_normalized = scaler.transform(test_features)\n",
        "\n",
        "# Test SVM\n",
        "predictions = svm.predict(test_features_normalized)\n",
        "\n",
        "# Evaluate\n",
        "accuracy = np.mean(predictions == test_labels)\n",
        "print(\"Accuracy:\", accuracy)"
      ]
    },
    {
      "cell_type": "code",
      "execution_count": null,
      "metadata": {
        "id": "NorbBMvASrUh"
      },
      "outputs": [],
      "source": []
    }
  ],
  "metadata": {
    "colab": {
      "provenance": []
    },
    "kernelspec": {
      "display_name": "Python 3",
      "name": "python3"
    },
    "language_info": {
      "name": "python"
    }
  },
  "nbformat": 4,
  "nbformat_minor": 0
}