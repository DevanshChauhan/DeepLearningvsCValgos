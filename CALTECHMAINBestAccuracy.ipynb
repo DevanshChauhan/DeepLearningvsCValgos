{
  "nbformat": 4,
  "nbformat_minor": 0,
  "metadata": {
    "colab": {
      "provenance": []
    },
    "kernelspec": {
      "name": "python3",
      "display_name": "Python 3"
    },
    "language_info": {
      "name": "python"
    }
  },
  "cells": [
    {
      "cell_type": "code",
      "execution_count": null,
      "metadata": {
        "colab": {
          "base_uri": "https://localhost:8080/"
        },
        "id": "6oheogTqNh0h",
        "outputId": "dfd5beb3-c050-4071-c8f9-c250814f7798"
      },
      "outputs": [
        {
          "output_type": "stream",
          "name": "stdout",
          "text": [
            "Mounted at /gdrive\n"
          ]
        }
      ],
      "source": [
        "from google.colab import drive\n",
        "drive.mount('/gdrive')"
      ]
    },
    {
      "cell_type": "code",
      "source": [
        "%cd /gdrive/MyDrive/caltech-101/"
      ],
      "metadata": {
        "colab": {
          "base_uri": "https://localhost:8080/"
        },
        "id": "ojS6r6KpN1CE",
        "outputId": "29caf141-424c-4104-ca50-c6616831ddbd"
      },
      "execution_count": null,
      "outputs": [
        {
          "output_type": "stream",
          "name": "stdout",
          "text": [
            "/gdrive/MyDrive/caltech-101\n"
          ]
        }
      ]
    },
    {
      "cell_type": "code",
      "source": [
        "import cv2\n",
        "import numpy as np\n",
        "import os\n",
        "from sklearn.cluster import KMeans\n",
        "from sklearn.svm import SVC\n",
        "from sklearn.preprocessing import StandardScaler\n",
        "from sklearn.model_selection import train_test_split"
      ],
      "metadata": {
        "id": "_pkdr8e3Nt4S"
      },
      "execution_count": null,
      "outputs": []
    },
    {
      "cell_type": "code",
      "source": [
        "image_paths = []\n",
        "for class_name in os.listdir(\"./data\"):\n",
        "    class_path = os.path.join(\"./data\", class_name)\n",
        "    for image_name in os.listdir(class_path):\n",
        "        image_paths.append((os.path.join(class_path, image_name), class_name))"
      ],
      "metadata": {
        "id": "OJhTmm3kN4I9"
      },
      "execution_count": null,
      "outputs": []
    },
    {
      "cell_type": "code",
      "source": [
        "train_paths, test_paths = train_test_split(image_paths, test_size=0.05, random_state=42)"
      ],
      "metadata": {
        "id": "XwA8V5zfN6GM"
      },
      "execution_count": null,
      "outputs": []
    },
    {
      "cell_type": "code",
      "source": [
        "print(len(train_paths))\n",
        "print(len(test_paths))"
      ],
      "metadata": {
        "colab": {
          "base_uri": "https://localhost:8080/"
        },
        "id": "AQK8LYpEOQgu",
        "outputId": "5e23cfa0-5a1b-4ba4-ba80-a546a8975d6c"
      },
      "execution_count": null,
      "outputs": [
        {
          "output_type": "stream",
          "name": "stdout",
          "text": [
            "1150\n",
            "61\n"
          ]
        }
      ]
    },
    {
      "cell_type": "code",
      "source": [
        "def get_descriptors(sift, img):\n",
        "    kp, des = sift.detectAndCompute(img, None)\n",
        "    return des\n",
        "\n",
        "def read_image(img_path):\n",
        "    img = cv2.imread(img_path, 0)\n",
        "    return cv2.resize(img, (150, 150))\n",
        "\n",
        "def extract_features(image_paths, sift):\n",
        "    descriptor_list = []\n",
        "    labels = []\n",
        "    for img_path, label in image_paths:\n",
        "        img = read_image(img_path)\n",
        "        des = get_descriptors(sift, img)\n",
        "        if des is not None:\n",
        "            descriptor_list.append(des)\n",
        "            labels.append(label)\n",
        "    return descriptor_list, labels\n",
        "\n",
        "def stack_descriptors(descriptor_list):\n",
        "    descriptors = np.array(descriptor_list[0])\n",
        "    for descriptor in descriptor_list[1:]:\n",
        "        descriptors = np.vstack((descriptors, descriptor))\n",
        "    return descriptors\n",
        "\n",
        "def extract_image_features(descriptor_list, kmeans, num_clusters):\n",
        "    image_features = np.zeros((len(descriptor_list), num_clusters))\n",
        "    for i, descriptors in enumerate(descriptor_list):\n",
        "        for descriptor in descriptors:\n",
        "            idx = kmeans.predict(descriptor.reshape(1, -1))\n",
        "            image_features[i][idx] += 1\n",
        "    return image_features\n",
        "\n",
        "def train_svm(X_train, y_train, kernel='linear'):\n",
        "    svm = SVC(kernel=kernel)\n",
        "    svm.fit(X_train, y_train)\n",
        "    return svm"
      ],
      "metadata": {
        "id": "6EH7OiLDOSVx"
      },
      "execution_count": null,
      "outputs": []
    },
    {
      "cell_type": "code",
      "source": [
        "nfeatures_values = [200, 300, 400]\n",
        "sigma_values = [0.7, 0.9, 1.1]\n",
        "num_clusters_values = [200, 400, 600]\n",
        "\n",
        "best_accuracy = 0\n",
        "best_params = None\n",
        "\n",
        "for nfeatures in nfeatures_values:\n",
        "    for sigma in sigma_values:\n",
        "        for num_clusters in num_clusters_values:\n",
        "            print(f\"nfeatures: {nfeatures}, sigma: {sigma}, num_clusters: {num_clusters}\")\n",
        "\n",
        "            extractor = cv2.SIFT_create(nfeatures=nfeatures, sigma=sigma)\n",
        "            train_descriptors, train_labels = extract_features(train_paths, extractor)\n",
        "            train_descriptors_stacked = stack_descriptors(train_descriptors)\n",
        "\n",
        "            kmeans = KMeans(n_clusters=num_clusters).fit(train_descriptors_stacked)\n",
        "\n",
        "            train_features = extract_image_features(train_descriptors, kmeans, num_clusters)\n",
        "            scaler = StandardScaler()\n",
        "            train_features_normalized = scaler.fit_transform(train_features)\n",
        "\n",
        "            svm = train_svm(train_features_normalized, train_labels)\n",
        "\n",
        "            test_descriptors, test_labels = extract_features(test_paths, extractor)\n",
        "            test_features = extract_image_features(test_descriptors, kmeans, num_clusters)\n",
        "            test_features_normalized = scaler.transform(test_features)\n",
        "\n",
        "            predictions = svm.predict(test_features_normalized)\n",
        "\n",
        "            accuracy = np.mean(predictions == test_labels)\n",
        "            print(\"Accuracy:\", accuracy)\n",
        "\n",
        "            if accuracy > best_accuracy:\n",
        "                best_accuracy = accuracy\n",
        "                best_params = {'nfeatures': nfeatures, 'sigma': sigma, 'num_clusters': num_clusters}\n",
        "\n",
        "print(\"\\nBest Model:\")\n",
        "print(\"Accuracy:\", best_accuracy)\n",
        "print(\"Best Parameters:\", best_params)"
      ],
      "metadata": {
        "colab": {
          "base_uri": "https://localhost:8080/"
        },
        "id": "5IT038nkMEAM",
        "outputId": "31b96223-4ef0-4700-ad80-30f10490e012"
      },
      "execution_count": null,
      "outputs": [
        {
          "output_type": "stream",
          "name": "stdout",
          "text": [
            "nfeatures: 200, sigma: 0.7, num_clusters: 200\n"
          ]
        },
        {
          "output_type": "stream",
          "name": "stderr",
          "text": [
            "/usr/local/lib/python3.10/dist-packages/sklearn/cluster/_kmeans.py:870: FutureWarning: The default value of `n_init` will change from 10 to 'auto' in 1.4. Set the value of `n_init` explicitly to suppress the warning\n",
            "  warnings.warn(\n"
          ]
        },
        {
          "output_type": "stream",
          "name": "stdout",
          "text": [
            "Accuracy: 0.5901639344262295\n",
            "nfeatures: 200, sigma: 0.7, num_clusters: 400\n"
          ]
        },
        {
          "output_type": "stream",
          "name": "stderr",
          "text": [
            "/usr/local/lib/python3.10/dist-packages/sklearn/cluster/_kmeans.py:870: FutureWarning: The default value of `n_init` will change from 10 to 'auto' in 1.4. Set the value of `n_init` explicitly to suppress the warning\n",
            "  warnings.warn(\n"
          ]
        },
        {
          "output_type": "stream",
          "name": "stdout",
          "text": [
            "Accuracy: 0.7213114754098361\n",
            "nfeatures: 200, sigma: 0.7, num_clusters: 600\n"
          ]
        },
        {
          "output_type": "stream",
          "name": "stderr",
          "text": [
            "/usr/local/lib/python3.10/dist-packages/sklearn/cluster/_kmeans.py:870: FutureWarning: The default value of `n_init` will change from 10 to 'auto' in 1.4. Set the value of `n_init` explicitly to suppress the warning\n",
            "  warnings.warn(\n"
          ]
        },
        {
          "output_type": "stream",
          "name": "stdout",
          "text": [
            "Accuracy: 0.7049180327868853\n",
            "nfeatures: 200, sigma: 0.9, num_clusters: 200\n"
          ]
        },
        {
          "output_type": "stream",
          "name": "stderr",
          "text": [
            "/usr/local/lib/python3.10/dist-packages/sklearn/cluster/_kmeans.py:870: FutureWarning: The default value of `n_init` will change from 10 to 'auto' in 1.4. Set the value of `n_init` explicitly to suppress the warning\n",
            "  warnings.warn(\n"
          ]
        },
        {
          "output_type": "stream",
          "name": "stdout",
          "text": [
            "Accuracy: 0.5901639344262295\n",
            "nfeatures: 200, sigma: 0.9, num_clusters: 400\n"
          ]
        },
        {
          "output_type": "stream",
          "name": "stderr",
          "text": [
            "/usr/local/lib/python3.10/dist-packages/sklearn/cluster/_kmeans.py:870: FutureWarning: The default value of `n_init` will change from 10 to 'auto' in 1.4. Set the value of `n_init` explicitly to suppress the warning\n",
            "  warnings.warn(\n"
          ]
        },
        {
          "output_type": "stream",
          "name": "stdout",
          "text": [
            "Accuracy: 0.6229508196721312\n",
            "nfeatures: 200, sigma: 0.9, num_clusters: 600\n"
          ]
        },
        {
          "output_type": "stream",
          "name": "stderr",
          "text": [
            "/usr/local/lib/python3.10/dist-packages/sklearn/cluster/_kmeans.py:870: FutureWarning: The default value of `n_init` will change from 10 to 'auto' in 1.4. Set the value of `n_init` explicitly to suppress the warning\n",
            "  warnings.warn(\n"
          ]
        },
        {
          "output_type": "stream",
          "name": "stdout",
          "text": [
            "Accuracy: 0.7868852459016393\n",
            "nfeatures: 200, sigma: 1.1, num_clusters: 200\n"
          ]
        },
        {
          "output_type": "stream",
          "name": "stderr",
          "text": [
            "/usr/local/lib/python3.10/dist-packages/sklearn/cluster/_kmeans.py:870: FutureWarning: The default value of `n_init` will change from 10 to 'auto' in 1.4. Set the value of `n_init` explicitly to suppress the warning\n",
            "  warnings.warn(\n"
          ]
        },
        {
          "output_type": "stream",
          "name": "stdout",
          "text": [
            "Accuracy: 0.5409836065573771\n",
            "nfeatures: 200, sigma: 1.1, num_clusters: 400\n"
          ]
        },
        {
          "output_type": "stream",
          "name": "stderr",
          "text": [
            "/usr/local/lib/python3.10/dist-packages/sklearn/cluster/_kmeans.py:870: FutureWarning: The default value of `n_init` will change from 10 to 'auto' in 1.4. Set the value of `n_init` explicitly to suppress the warning\n",
            "  warnings.warn(\n"
          ]
        },
        {
          "output_type": "stream",
          "name": "stdout",
          "text": [
            "Accuracy: 0.6065573770491803\n",
            "nfeatures: 200, sigma: 1.1, num_clusters: 600\n"
          ]
        },
        {
          "output_type": "stream",
          "name": "stderr",
          "text": [
            "/usr/local/lib/python3.10/dist-packages/sklearn/cluster/_kmeans.py:870: FutureWarning: The default value of `n_init` will change from 10 to 'auto' in 1.4. Set the value of `n_init` explicitly to suppress the warning\n",
            "  warnings.warn(\n"
          ]
        },
        {
          "output_type": "stream",
          "name": "stdout",
          "text": [
            "Accuracy: 0.639344262295082\n",
            "nfeatures: 300, sigma: 0.7, num_clusters: 200\n"
          ]
        },
        {
          "output_type": "stream",
          "name": "stderr",
          "text": [
            "/usr/local/lib/python3.10/dist-packages/sklearn/cluster/_kmeans.py:870: FutureWarning: The default value of `n_init` will change from 10 to 'auto' in 1.4. Set the value of `n_init` explicitly to suppress the warning\n",
            "  warnings.warn(\n"
          ]
        },
        {
          "output_type": "stream",
          "name": "stdout",
          "text": [
            "Accuracy: 0.7049180327868853\n",
            "nfeatures: 300, sigma: 0.7, num_clusters: 400\n"
          ]
        },
        {
          "output_type": "stream",
          "name": "stderr",
          "text": [
            "/usr/local/lib/python3.10/dist-packages/sklearn/cluster/_kmeans.py:870: FutureWarning: The default value of `n_init` will change from 10 to 'auto' in 1.4. Set the value of `n_init` explicitly to suppress the warning\n",
            "  warnings.warn(\n"
          ]
        },
        {
          "output_type": "stream",
          "name": "stdout",
          "text": [
            "Accuracy: 0.7868852459016393\n",
            "nfeatures: 300, sigma: 0.7, num_clusters: 600\n"
          ]
        },
        {
          "output_type": "stream",
          "name": "stderr",
          "text": [
            "/usr/local/lib/python3.10/dist-packages/sklearn/cluster/_kmeans.py:870: FutureWarning: The default value of `n_init` will change from 10 to 'auto' in 1.4. Set the value of `n_init` explicitly to suppress the warning\n",
            "  warnings.warn(\n"
          ]
        },
        {
          "output_type": "stream",
          "name": "stdout",
          "text": [
            "Accuracy: 0.7049180327868853\n",
            "nfeatures: 300, sigma: 0.9, num_clusters: 200\n"
          ]
        },
        {
          "output_type": "stream",
          "name": "stderr",
          "text": [
            "/usr/local/lib/python3.10/dist-packages/sklearn/cluster/_kmeans.py:870: FutureWarning: The default value of `n_init` will change from 10 to 'auto' in 1.4. Set the value of `n_init` explicitly to suppress the warning\n",
            "  warnings.warn(\n"
          ]
        },
        {
          "output_type": "stream",
          "name": "stdout",
          "text": [
            "Accuracy: 0.47540983606557374\n",
            "nfeatures: 300, sigma: 0.9, num_clusters: 400\n"
          ]
        },
        {
          "output_type": "stream",
          "name": "stderr",
          "text": [
            "/usr/local/lib/python3.10/dist-packages/sklearn/cluster/_kmeans.py:870: FutureWarning: The default value of `n_init` will change from 10 to 'auto' in 1.4. Set the value of `n_init` explicitly to suppress the warning\n",
            "  warnings.warn(\n"
          ]
        },
        {
          "output_type": "stream",
          "name": "stdout",
          "text": [
            "Accuracy: 0.6885245901639344\n",
            "nfeatures: 300, sigma: 0.9, num_clusters: 600\n"
          ]
        },
        {
          "output_type": "stream",
          "name": "stderr",
          "text": [
            "/usr/local/lib/python3.10/dist-packages/sklearn/cluster/_kmeans.py:870: FutureWarning: The default value of `n_init` will change from 10 to 'auto' in 1.4. Set the value of `n_init` explicitly to suppress the warning\n",
            "  warnings.warn(\n"
          ]
        },
        {
          "output_type": "stream",
          "name": "stdout",
          "text": [
            "Accuracy: 0.7213114754098361\n",
            "nfeatures: 300, sigma: 1.1, num_clusters: 200\n"
          ]
        },
        {
          "output_type": "stream",
          "name": "stderr",
          "text": [
            "/usr/local/lib/python3.10/dist-packages/sklearn/cluster/_kmeans.py:870: FutureWarning: The default value of `n_init` will change from 10 to 'auto' in 1.4. Set the value of `n_init` explicitly to suppress the warning\n",
            "  warnings.warn(\n"
          ]
        }
      ]
    },
    {
      "cell_type": "code",
      "source": [
        "extractor = cv2.SIFT_create(nfeatures=300, nOctaveLayers=8, contrastThreshold=0.03, edgeThreshold=20.0, sigma=0.7)\n",
        "\n",
        "# Extract features from train set\n",
        "train_descriptors, train_labels = extract_features(train_paths, extractor)"
      ],
      "metadata": {
        "id": "NzCQsejxPeST"
      },
      "execution_count": null,
      "outputs": []
    },
    {
      "cell_type": "code",
      "source": [
        "def stack_descriptors(descriptor_list):\n",
        "    descriptors = np.array(descriptor_list[0])\n",
        "    for descriptor in descriptor_list[1:]:\n",
        "        descriptors = np.vstack((descriptors, descriptor))\n",
        "    return descriptors\n",
        "train_descriptors_stacked = stack_descriptors(train_descriptors)"
      ],
      "metadata": {
        "id": "-gY3UQnSPt5x"
      },
      "execution_count": null,
      "outputs": []
    },
    {
      "cell_type": "code",
      "source": [
        "num_clusters = 250\n",
        "kmeans = KMeans(n_clusters=num_clusters).fit(train_descriptors_stacked)"
      ],
      "metadata": {
        "colab": {
          "base_uri": "https://localhost:8080/"
        },
        "id": "-YmUx5TwQXHK",
        "outputId": "effc22b2-766e-4312-89c6-3570a56b678e"
      },
      "execution_count": null,
      "outputs": [
        {
          "metadata": {
            "tags": null
          },
          "name": "stderr",
          "output_type": "stream",
          "text": [
            "/usr/local/lib/python3.10/dist-packages/sklearn/cluster/_kmeans.py:870: FutureWarning: The default value of `n_init` will change from 10 to 'auto' in 1.4. Set the value of `n_init` explicitly to suppress the warning\n",
            "  warnings.warn(\n"
          ]
        }
      ]
    },
    {
      "cell_type": "code",
      "source": [
        "def extract_image_features(descriptor_list, kmeans, num_clusters):\n",
        "    image_features = np.zeros((len(descriptor_list), num_clusters))\n",
        "    for i, descriptors in enumerate(descriptor_list):\n",
        "        for descriptor in descriptors:\n",
        "            idx = kmeans.predict(descriptor.reshape(1, -1))\n",
        "            image_features[i][idx] += 1\n",
        "    return image_features\n",
        "# Extract image features\n",
        "train_features = extract_image_features(train_descriptors, kmeans, num_clusters)\n",
        "\n",
        "# Normalize features\n",
        "scaler = StandardScaler()\n",
        "train_features_normalized = scaler.fit_transform(train_features)"
      ],
      "metadata": {
        "id": "m9a6SQD8QXcN"
      },
      "execution_count": null,
      "outputs": []
    },
    {
      "cell_type": "code",
      "source": [
        "def train_svm(X_train, y_train, kernel='linear'):\n",
        "    svm = SVC(kernel=kernel)\n",
        "    svm.fit(X_train, y_train)\n",
        "    return svm\n",
        "svm = train_svm(train_features_normalized, train_labels)"
      ],
      "metadata": {
        "id": "PDm557BDQZPl"
      },
      "execution_count": null,
      "outputs": []
    },
    {
      "cell_type": "code",
      "source": [
        "# Extract features from test set\n",
        "test_descriptors, test_labels = extract_features(test_paths, extractor)\n",
        "test_features = extract_image_features(test_descriptors, kmeans, num_clusters)\n",
        "test_features_normalized = scaler.transform(test_features)\n",
        "\n",
        "# Test SVM\n",
        "predictions = svm.predict(test_features_normalized)\n",
        "\n",
        "# Evaluate\n",
        "accuracy = np.mean(predictions == test_labels)\n",
        "print(\"Accuracy:\", accuracy)"
      ],
      "metadata": {
        "id": "EfebEb7FQbie"
      },
      "execution_count": null,
      "outputs": []
    },
    {
      "cell_type": "code",
      "source": [
        "num_clusters = 400\n",
        "kmeans = KMeans(n_clusters=num_clusters).fit(train_descriptors_stacked)\n",
        "\n",
        "# Extract image features\n",
        "train_features = extract_image_features(train_descriptors, kmeans, num_clusters)\n",
        "\n",
        "# Normalize features\n",
        "scaler = StandardScaler()\n",
        "train_features_normalized = scaler.fit_transform(train_features)\n",
        "\n",
        "svm = train_svm(train_features_normalized, train_labels)\n",
        "\n",
        "# Extract features from test set\n",
        "test_descriptors, test_labels = extract_features(test_paths, extractor)\n",
        "test_features = extract_image_features(test_descriptors, kmeans, num_clusters)\n",
        "test_features_normalized = scaler.transform(test_features)\n",
        "\n",
        "# Test SVM\n",
        "predictions = svm.predict(test_features_normalized)\n",
        "\n",
        "# Evaluate\n",
        "accuracy = np.mean(predictions == test_labels)\n",
        "print(\"Accuracy:\", accuracy)"
      ],
      "metadata": {
        "colab": {
          "base_uri": "https://localhost:8080/"
        },
        "id": "3HFGGH0_RmZ6",
        "outputId": "9510a690-3300-4d30-f63c-6de43e2cbb41"
      },
      "execution_count": null,
      "outputs": [
        {
          "output_type": "stream",
          "name": "stderr",
          "text": [
            "/usr/local/lib/python3.10/dist-packages/sklearn/cluster/_kmeans.py:870: FutureWarning: The default value of `n_init` will change from 10 to 'auto' in 1.4. Set the value of `n_init` explicitly to suppress the warning\n",
            "  warnings.warn(\n"
          ]
        },
        {
          "output_type": "stream",
          "name": "stdout",
          "text": [
            "Accuracy: 0.64\n"
          ]
        }
      ]
    },
    {
      "cell_type": "code",
      "source": [
        "maxlen = 0\n",
        "for d in train_descriptors:\n",
        "  if maxlen < len(d):\n",
        "    maxlen = len(d)\n",
        "print(maxlen)"
      ],
      "metadata": {
        "id": "NorbBMvASrUh",
        "colab": {
          "base_uri": "https://localhost:8080/"
        },
        "outputId": "252c156a-416b-4d0c-8dd6-78130a699ac5"
      },
      "execution_count": null,
      "outputs": [
        {
          "output_type": "stream",
          "name": "stdout",
          "text": [
            "303\n"
          ]
        }
      ]
    },
    {
      "cell_type": "code",
      "source": [],
      "metadata": {
        "id": "SOYMrHM2_exc"
      },
      "execution_count": null,
      "outputs": []
    }
  ]
}